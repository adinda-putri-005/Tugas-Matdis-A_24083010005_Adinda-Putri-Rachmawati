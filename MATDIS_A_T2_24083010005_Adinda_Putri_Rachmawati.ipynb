{
  "nbformat": 4,
  "nbformat_minor": 0,
  "metadata": {
    "colab": {
      "provenance": []
    },
    "kernelspec": {
      "name": "python3",
      "display_name": "Python 3"
    },
    "language_info": {
      "name": "python"
    }
  },
  "cells": [
    {
      "cell_type": "markdown",
      "source": [
        "Nama : Adinda Putri Rachmawati\n",
        "\n",
        "NPM : 24083010005\n",
        "\n",
        "Matematika Diskrit A"
      ],
      "metadata": {
        "id": "0VXpGR40Rc3I"
      }
    },
    {
      "cell_type": "code",
      "execution_count": null,
      "metadata": {
        "colab": {
          "base_uri": "https://localhost:8080/"
        },
        "id": "lpzlynB_2tjP",
        "outputId": "f417c65d-78b9-4bf1-e4d8-9385d41c9c18"
      },
      "outputs": [
        {
          "output_type": "stream",
          "name": "stdout",
          "text": [
            "Pernyataan 1: 1 + 2 + 2^2 + ... + 2^n = 2^(n+1) - 1\n",
            "n=0 -> True\n",
            "n=1 -> True\n",
            "n=2 -> True\n",
            "n=3 -> True\n",
            "n=4 -> True\n",
            "n=5 -> True\n",
            "n=6 -> True\n",
            "n=7 -> True\n",
            "n=8 -> True\n",
            "n=9 -> True\n",
            "n=10 -> True\n",
            "\n",
            "Pernyataan 2: n! >= 2^(n-1)\n",
            "n=0 -> True\n",
            "n=1 -> True\n",
            "n=2 -> True\n",
            "n=3 -> True\n",
            "n=4 -> True\n",
            "n=5 -> True\n",
            "n=6 -> True\n",
            "n=7 -> True\n",
            "n=8 -> True\n",
            "n=9 -> True\n",
            "n=10 -> True\n",
            "n=11 -> True\n",
            "n=12 -> True\n",
            "n=13 -> True\n",
            "n=14 -> True\n",
            "n=15 -> True\n",
            "n=16 -> True\n",
            "n=17 -> True\n",
            "n=18 -> True\n",
            "n=19 -> True\n"
          ]
        }
      ],
      "source": [
        "import math\n",
        "\n",
        "def cek_pilihan_1(n):\n",
        "    # 1 + 2 + 2^2 + ... + 2^n\n",
        "    lhs = sum(2**k for k in range(n+1))\n",
        "    rhs = 2**(n+1) - 1\n",
        "    return lhs == rhs\n",
        "\n",
        "def cek_pilihan_2(n):\n",
        "    lhs = math.factorial(n)\n",
        "    rhs = 2**(n-1)\n",
        "    return lhs >= rhs\n",
        "\n",
        "# cek untuk n = 0 sampai 10\n",
        "print(\"Pernyataan 1: 1 + 2 + 2^2 + ... + 2^n = 2^(n+1) - 1\")\n",
        "for n in range(0, 11):\n",
        "    print(f\"n={n} -> {cek_pilihan_1(n)}\")\n",
        "\n",
        "print(\"\\nPernyataan 2: n! >= 2^(n-1)\")\n",
        "for n in range(0, 20): # Changed range to start from 0\n",
        "    print(f\"n={n} -> {cek_pilihan_2(n)}\")"
      ]
    },
    {
      "cell_type": "markdown",
      "source": [
        "# Analisis Hasil\n",
        "\n",
        "- **Pernyataan 1**\n",
        "\n",
        "1+2+22+23+⋯+2n=2(n+1)−1\n",
        "\n",
        "Dari hasil perhitungan diatas, seluruh nilai n yang diuji menghasilkan **True**. Hal ini sesuai dengan rumus jumlah deret geometri dengan rasio r=2, sehingga identitas ini terbukti benar untuk setiap n≥0\n",
        "\n",
        "- **Pernyataan 2**\n",
        "\n",
        "n!≥2^(n−1)\n",
        "\n",
        "Output dari perhitungan diatas juga menunujukkan hasil **True** untuk semua n yang diuji. Hal ini terjadi karena faktorial n! tumbuh lebih cepat dibandingkan fungsi eksponensial 2^(n-1). sebagai contoh, untuk n=5 diperoleh 5!=120, sedangkan 2^4=16. Dengan demikian, pertidaksamaan ini benar untuk semua n≥1.\n",
        "\n",
        "\n",
        "\n",
        "**Kesimpulan**\n",
        "\n",
        "Kedua pernyataan yang diuji terbukti benar berdasarkan hasil komputasi. Pernyataan pertama sesuai dengan identitas deret geometri, sedangkan pernyataan kedua membuktikan bahwa pertumbuhan faktorial jauh lebih cepat dibandingkan pertumbuhan eksponensial.\n"
      ],
      "metadata": {
        "id": "uOzef488PIig"
      }
    },
    {
      "cell_type": "code",
      "source": [],
      "metadata": {
        "id": "kzE0DtQNRbSX"
      },
      "execution_count": null,
      "outputs": []
    }
  ]
}